{
 "cells": [
  {
   "cell_type": "markdown",
   "metadata": {},
   "source": [
    "# W2 Project - Data cleaning & wrangling\n",
    "\n",
    "The goal of this project is to combine everything you have learned about data wrangling, cleaning, and manipulation with Pandas so you can see how it all works together. For this project, you will start with this messy data set Shark Attack. You will need to import it, use your data wrangling skills to clean it up, prepare it to be analyzed, and then export it as a clean CSV data file.\n",
    "\n",
    "## TODO's\n",
    "1. Decide a hypothesis with which you will clean the data\n",
    "2. Explore the data and write down what you have found\n",
    "   * you can use: `df.describe()`, `df[\"column\"]`, etc.\n",
    "3. Use at least 5 data cleaning techniques inside a file named `clean.ipynb`\n",
    "  * null values, columns drop, duplicated data, string manipulation, apply fn, categorize, regex, etc.\n",
    "4. Show data that validates the conclusions based on your hypotesis in a file named `analysis.ipynb`\n",
    "\n",
    "## Suggested Ways to Get Started\n",
    "* Examine the data and try to understand what the fields mean before diving into data cleaning and manipulation methods.\n",
    "* Break the project down into different steps - use the topics covered in the lessons to form a check list, add anything else you can think of that may be wrong with your data set, and then work through the check list.\n",
    "* Use the tools in your tool kit - your knowledge of Python, data structures, Pandas, and data wrangling.\n",
    "Work through the lessons in class & ask questions when you need to! Think about adding relevant code to your project each night, instead of, you know... procrastinating.\n",
    "* Commit early, commit often, don’t be afraid of doing something incorrectly because you can always roll back to a previous version.\n",
    "* Consult documentation and resources provided to better understand the tools you are using and how to accomplish what you want.\n",
    "\n",
    "## How to deliver the project\n",
    "\n",
    "1. Create a new repo with the name `data-cleaning-pandas` in your github account.\n",
    "   - Create a `README.md` file on repo root with project documentation\n",
    "   - At least 1 jupyter notebook is required\n",
    "   - **DO NOT UPLOAD SHARKs ATTACK DATASET TO GITHUB**\n",
    "2.  Do a `PR` with the link of your repo copy pasted inside `m1/pandas-project/PROJECT-REPO.md` on our labs repo.\n",
    "\n",
    "## Links & Resources\n",
    "- https://www.kaggle.com/teajay/global-shark-attacks\n",
    "- https://numpy.org/doc/1.18/\n",
    "- https://pandas.pydata.org/\n",
    "- https://docs.python.org/3/library/functions.html"
   ]
  }
 ],
 "metadata": {
  "kernelspec": {
   "display_name": "Python 3",
   "language": "python",
   "name": "python3"
  },
  "language_info": {
   "codemirror_mode": {
    "name": "ipython",
    "version": 3
   },
   "file_extension": ".py",
   "mimetype": "text/x-python",
   "name": "python",
   "nbconvert_exporter": "python",
   "pygments_lexer": "ipython3",
   "version": "3.7.5"
  }
 },
 "nbformat": 4,
 "nbformat_minor": 4
}
